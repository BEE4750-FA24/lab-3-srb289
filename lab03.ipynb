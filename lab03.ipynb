{
  "cells": [
    {
      "cell_type": "markdown",
      "id": "20f04953-8e3b-4bf2-ac07-34207fed2f94",
      "metadata": {},
      "source": [
        "# BEE 4750 Lab 3: Linear Programming with JuMP\n",
        "\n",
        "**Name**:\n",
        "\n",
        "**ID**:\n",
        "\n",
        "> **Due Date**\n",
        ">\n",
        "> Wednesday, 10/16/24, 9:00pm\n",
        "\n",
        "## Setup\n",
        "\n",
        "The following code should go at the top of most Julia scripts; it will\n",
        "load the local package environment and install any needed packages. You\n",
        "will see this often and shouldn’t need to touch it."
      ]
    },
    {
      "cell_type": "code",
      "execution_count": 1,
      "id": "2",
      "metadata": {},
      "outputs": [
        {
          "name": "stderr",
          "output_type": "stream",
          "text": [
            "\u001b[32m\u001b[1m  Activating\u001b[22m\u001b[39m project at `c:\\Users\\srbuc\\OneDrive\\Desktop\\lab\\lab-3-srb289`\n",
            "\u001b[32m\u001b[1m   Installed\u001b[22m\u001b[39m HiGHS_jll ──────────── v1.7.2+0\n",
            "\u001b[32m\u001b[1m   Installed\u001b[22m\u001b[39m StaticArraysCore ───── v1.4.3\n",
            "\u001b[32m\u001b[1m   Installed\u001b[22m\u001b[39m CodecBzip2 ─────────── v0.8.3\n",
            "\u001b[32m\u001b[1m   Installed\u001b[22m\u001b[39m CommonSubexpressions ─ v0.3.0\n",
            "\u001b[32m\u001b[1m   Installed\u001b[22m\u001b[39m BenchmarkTools ─────── v1.5.0\n",
            "\u001b[32m\u001b[1m   Installed\u001b[22m\u001b[39m MutableArithmetics ─── v1.4.6\n",
            "\u001b[32m\u001b[1m   Installed\u001b[22m\u001b[39m DiffRules ──────────── v1.15.1\n",
            "\u001b[32m\u001b[1m   Installed\u001b[22m\u001b[39m HiGHS ──────────────── v1.9.2\n",
            "\u001b[32m\u001b[1m   Installed\u001b[22m\u001b[39m DiffResults ────────── v1.1.0\n",
            "\u001b[32m\u001b[1m   Installed\u001b[22m\u001b[39m ForwardDiff ────────── v0.10.36\n",
            "\u001b[32m\u001b[1m   Installed\u001b[22m\u001b[39m JuMP ───────────────── v1.22.2\n",
            "\u001b[32m\u001b[1m   Installed\u001b[22m\u001b[39m MathOptInterface ───── v1.31.0\n",
            "\u001b[32m\u001b[1mPrecompiling\u001b[22m\u001b[39m project...\n",
            "\u001b[32m  ✓ \u001b[39m\u001b[90mCommonSubexpressions\u001b[39m\n",
            "\u001b[32m  ✓ \u001b[39m\u001b[90mStaticArraysCore\u001b[39m\n",
            "\u001b[32m  ✓ \u001b[39m\u001b[90mHiGHS_jll\u001b[39m\n",
            "\u001b[32m  ✓ \u001b[39m\u001b[90mCodecBzip2\u001b[39m\n",
            "\u001b[32m  ✓ \u001b[39m\u001b[90mlibvorbis_jll\u001b[39m\n",
            "\u001b[32m  ✓ \u001b[39m\u001b[90mBenchmarkTools\u001b[39m\n",
            "\u001b[32m  ✓ \u001b[39m\u001b[90mDiffResults\u001b[39m\n",
            "\u001b[32m  ✓ \u001b[39m\u001b[90mGLFW_jll\u001b[39m\n",
            "\u001b[32m  ✓ \u001b[39m\u001b[90mDiffRules\u001b[39m\n",
            "\u001b[32m  ✓ \u001b[39m\u001b[90mFFMPEG_jll\u001b[39m\n",
            "\u001b[32m  ✓ \u001b[39m\u001b[90mQt6ShaderTools_jll\u001b[39m\n",
            "\u001b[32m  ✓ \u001b[39m\u001b[90mFFMPEG\u001b[39m\n",
            "\u001b[32m  ✓ \u001b[39m\u001b[90mMutableArithmetics\u001b[39m\n",
            "\u001b[32m  ✓ \u001b[39m\u001b[90mGR_jll\u001b[39m\n",
            "\u001b[32m  ✓ \u001b[39m\u001b[90mQt6Declarative_jll\u001b[39m\n",
            "\u001b[32m  ✓ \u001b[39m\u001b[90mQt6Wayland_jll\u001b[39m\n",
            "\u001b[32m  ✓ \u001b[39m\u001b[90mForwardDiff\u001b[39m\n",
            "\u001b[32m  ✓ \u001b[39m\u001b[90mGR\u001b[39m\n",
            "\u001b[32m  ✓ \u001b[39mPlots\n",
            "\u001b[32m  ✓ \u001b[39m\u001b[90mMathOptInterface\u001b[39m\n",
            "\u001b[32m  ✓ \u001b[39m\u001b[90mPlots → UnitfulExt\u001b[39m\n",
            "\u001b[32m  ✓ \u001b[39mHiGHS\n",
            "\u001b[32m  ✓ \u001b[39mJuMP\n",
            "  23 dependencies successfully precompiled in 312 seconds. 147 already precompiled.\n"
          ]
        }
      ],
      "source": [
        "import Pkg\n",
        "Pkg.activate(\".\")\n",
        "Pkg.instantiate()"
      ]
    },
    {
      "cell_type": "code",
      "execution_count": 9,
      "id": "4",
      "metadata": {},
      "outputs": [],
      "source": [
        "using JuMP # optimization modeling syntax\n",
        "using HiGHS # optimization solver"
      ]
    },
    {
      "cell_type": "markdown",
      "id": "5fbced4c-bd36-40c3-9e3c-b21186db2bf5",
      "metadata": {},
      "source": [
        "## Overview\n",
        "\n",
        "In this lab, you will write and solve a resource allocation example\n",
        "using `JuMP.jl`. `JuMP.jl` provides an intuitive syntax for writing,\n",
        "solving, and querying optimization problems.\n",
        "\n",
        "`JuMP` requires the loading of a solver. \\[Each supported solver works\n",
        "for certain classes of problems, and some are open source while others\n",
        "require a commercial license\\]. We will use the `HiGHS` solver, which is\n",
        "open source and works for linear, mixed integer linear, and quadratic\n",
        "programs.\n",
        "\n",
        "In this lab we will walk through the steps involved in coding a linear\n",
        "program in HiGHS, solving it, and querying the solution.\n",
        "\n",
        "## Exercise (3 points)\n",
        "\n",
        "Your task is to decide how much lumber to produce to maximize profit\n",
        "from wood sales. You can purchase wood from a managed forest, which\n",
        "consists of spruce (320,000 bf) and fir (720,000 bf). Spruce costs\n",
        "$\\$0.12$ per bf to purchase and fir costs $\\$0.08$ per bf.\n",
        "\n",
        "At the lumber mill, wood can be turned into plywood of various grades\n",
        "(see <a href=\"#tbl-inputs\" class=\"quarto-xref\">Table 1</a> for how much\n",
        "wood of each type is required for and the revenue from each grade). Any\n",
        "excess wood is sent to be recycled into particle board, which yields no\n",
        "revenue for the mill.\n",
        "\n",
        "| Plywood Grade | Inputs (bf/bf plywood) | Revenue (\\$/1000 bf) |\n",
        "|:-------------:|:----------------------:|:--------------------:|\n",
        "|       1       |   0.5 (S) + 1.5 (F)    |         400          |\n",
        "|       2       |   1.0 (S) + 2.0 (F)    |         520          |\n",
        "|       3       |   1.5 (S) + 2.0 (F)    |         700          |\n",
        "\n",
        "Table 1: Wood inputs and revenue by plywood grade. S refers to spruce\n",
        "inputs, F fir inputs.\n",
        "\n",
        "First, we need to identify our decision variables. While there are\n",
        "several options, we will use $G_i$, the amount of each grade the mill\n",
        "produces (in \\$/1000 bf).\n",
        "\n",
        "Using these decision variables, formulate a linear program to maximize\n",
        "the profit of the mill subject to the supply constraints on spruce and\n",
        "fir.\n",
        "\n",
        "> **JuMP Syntax**\n",
        ">\n",
        "> The core pieces of setting up a `JuMP` model involve specifying the\n",
        "> model and adding variables, the objective, and constraints. At the\n",
        "> most simple level, this syntax looks like this:\n",
        ">\n",
        "> ``` julia\n",
        "> m = Model(HiGHS.Optimizer)\n",
        "> @variable(m, lb <= x <= ub) # if you do not have upper or lower bounds, you can drop those accordingly\n",
        "> @variable(m, lb <= y <= ub)\n",
        "> @objective(m, Max, 100x + 250y) # replace Max with Min depending on the problem\n",
        "> @constraint(m, label, 6x + 12y <= 80) # replace \"label\" with some meaningful string you would like to use later to query shadow prices, or drop it\n",
        "> ```\n",
        ">\n",
        "> You can add more constraints or more variables as needed.\n",
        "\n",
        "> **Using Array Syntax**\n",
        ">\n",
        "> You can set up multiple variables or constraints at once using array\n",
        "> syntax. For example, the following are equivalent:\n",
        ">\n",
        "> ``` julia\n",
        "> @variable(m, G1 >= 0)\n",
        "> @variable(m, G2 >= 0)\n",
        "> @variable(m, G3 >= 0)\n",
        "> ```\n",
        ">\n",
        "> and\n",
        ">\n",
        "> ``` julia\n",
        "> @variable(m, G[1:3] >= 0)\n",
        "> ```\n",
        ">\n",
        "> You can also set up multiple constraints using arrays of coefficients\n",
        "> and/or bounds. For example:\n",
        ">\n",
        "> ``` julia\n",
        "> I = 1:3\n",
        "> d = [0; 3; 5]\n",
        "> @constraint(m, demand[i in I], G[i] >= d[i])\n",
        "> ```\n",
        "\n",
        "`JuMP` is finicky about changing objects and constraints, so I recommend\n",
        "setting up all of the model syntax in one notebook cell, which is what\n",
        "we will do here."
      ]
    },
    {
      "cell_type": "markdown",
      "id": "7b8a102b",
      "metadata": {},
      "source": [
        "Formulating the LP:\n",
        "\n",
        "The decision variables $x_n$ will be the amount of type n plywood to produce.\n",
        "\n",
        "The objective function is the sum of each $x_n$ multiplied by the revenue minus the cost to produce.\n",
        "\n",
        "Constraints are the maximum available amount of each kind of wood, and that no x_n can be negative.\n",
        "\n",
        "max $P(\\vec x) = (400/1000 - 0.5 \\times 0.12 - 1.5 \\times 0.08) x_1 + (520/1000 - 0.12 -2\\times 0.08) x_2 + (700/1000 +1.5\\times 0.12 + 2\\times 0.08) x_3 $\n",
        "\n",
        "Subject to:\n",
        "\n",
        "$0.5 x_1 + x_2 + 1.5 x_1 \\leq 320000$\n",
        "\n",
        "$1.5 x_1 + 2 x_2 + 2 x_3 \\leq 720000$\n",
        "\n",
        "$ -x_1, -x_2, -x_3 \\leq 0$\n"
      ]
    },
    {
      "cell_type": "code",
      "execution_count": 22,
      "id": "6",
      "metadata": {},
      "outputs": [
        {
          "name": "stdout",
          "output_type": "stream",
          "text": [
            "Max 0.22 G[1] + 0.24 G[2] + 0.36 G[3]\n",
            "Subject to\n",
            " spruce : 0.5 G[1] + G[2] + 1.5 G[3] <= 320000\n",
            " fir : 1.5 G[1] + 2 G[2] + 2 G[3] <= 720000\n",
            " G[1] >= 0\n",
            " G[2] >= 0\n",
            " G[3] >= 0\n"
          ]
        }
      ],
      "source": [
        "forest_model = Model(HiGHS.Optimizer) # initialize model object\n",
        "@variable(forest_model, G[1:3] >= 0) # non-negativity constraints\n",
        "# uncomment the following lines and add the objective and constraints as needed for the model\n",
        "@objective(forest_model, Max, .22*G[1] + .24*G[2] + .36*G[3])\n",
        "@constraint(forest_model, spruce, .5*G[1]+G[2]+1.5*G[3] <=320000)\n",
        "@constraint(forest_model, fir, 1.5*G[1]+2*G[2]+2*G[3] <= 720000)\n",
        "print(forest_model) # this outputs a nicely formatted summary of the model so you can check your specification"
      ]
    },
    {
      "cell_type": "markdown",
      "id": "4e87a9d3-cf42-48c8-9056-b3783747fda5",
      "metadata": {},
      "source": [
        "Next, to optimize, use the `optimize!()` function:"
      ]
    },
    {
      "cell_type": "code",
      "execution_count": 23,
      "id": "8",
      "metadata": {},
      "outputs": [
        {
          "name": "stdout",
          "output_type": "stream",
          "text": [
            "Running HiGHS 1.7.2 (git hash: 5ce7a2753): Copyright (c) 2024 HiGHS under MIT licence terms\n",
            "Coefficient ranges:\n",
            "  Matrix [5e-01, 2e+00]\n",
            "  Cost   [2e-01, 4e-01]\n",
            "  Bound  [0e+00, 0e+00]\n",
            "  RHS    [3e+05, 7e+05]\n",
            "Presolving model\n",
            "2 rows, 3 cols, 6 nonzeros  0s\n",
            "2 rows, 3 cols, 6 nonzeros  0s\n",
            "Presolve : Reductions: rows 2(-0); columns 3(-0); elements 6(-0) - Not reduced\n",
            "Problem not reduced by presolve: solving the LP\n",
            "Using EKK dual simplex solver - serial\n",
            "  Iteration        Objective     Infeasibilities num(sum)\n",
            "          0    -8.1999884144e-01 Ph1: 2(8.5); Du: 3(0.819999) 0s\n",
            "          2     1.1200000000e+05 Pr: 0(0) 0s\n",
            "Model   status      : Optimal\n",
            "Simplex   iterations: 2\n",
            "Objective value     :  1.1200000000e+05\n",
            "HiGHS run time      :          0.03\n"
          ]
        }
      ],
      "source": [
        "optimize!(forest_model)"
      ]
    },
    {
      "cell_type": "markdown",
      "id": "a5978b12-4e04-4aa7-af76-bff2a538ce91",
      "metadata": {},
      "source": [
        "You should get confirmation that a solution was found; if one was not,\n",
        "there’s a chance something was wrong with your model formulation.\n",
        "\n",
        "To find the values of the decision variables, use `value()` (which can\n",
        "be broadcasted over variable arrays):"
      ]
    },
    {
      "cell_type": "code",
      "execution_count": 24,
      "id": "10",
      "metadata": {},
      "outputs": [
        {
          "name": "stdout",
          "output_type": "stream",
          "text": [
            "value.(G) = [352000.0, 0.0, 96000.0]\n"
          ]
        }
      ],
      "source": [
        "@show value.(G);"
      ]
    },
    {
      "cell_type": "markdown",
      "id": "44201756-c452-4559-93d4-4a20fdd9e76e",
      "metadata": {},
      "source": [
        "Similarly, `objective_value()` finds the optimal value of the objective:"
      ]
    },
    {
      "cell_type": "code",
      "execution_count": 25,
      "id": "12",
      "metadata": {},
      "outputs": [
        {
          "name": "stdout",
          "output_type": "stream",
          "text": [
            "objective_value(forest_model) = 112000.0\n"
          ]
        }
      ],
      "source": [
        "@show objective_value(forest_model);"
      ]
    },
    {
      "cell_type": "markdown",
      "id": "5940717c-ab7e-4d2e-8dc1-245e8b476226",
      "metadata": {},
      "source": [
        "Finally, we can find the dual values of the constraints with\n",
        "`shadow_price()`. Do this for the constraints in your model using the\n",
        "block below."
      ]
    },
    {
      "cell_type": "code",
      "execution_count": 28,
      "id": "14",
      "metadata": {},
      "outputs": [
        {
          "name": "stdout",
          "output_type": "stream",
          "text": [
            "shadow_price(spruce) = 0.08000000000000003\n",
            "shadow_price(fir) = 0.11999999999999997\n"
          ]
        }
      ],
      "source": [
        "@show shadow_price(spruce);\n",
        "@show shadow_price(fir);"
      ]
    },
    {
      "cell_type": "markdown",
      "id": "1b8eb8a1-896e-4799-9888-a44175a84718",
      "metadata": {},
      "source": [
        "`JuMP` also lets you evaluate other expressions that you might be\n",
        "interested in based on the solutions. For example, you can use the\n",
        "following block to calculate the total amount of plywood the mill would\n",
        "produce under the optimal solution:"
      ]
    },
    {
      "cell_type": "code",
      "execution_count": 29,
      "id": "16",
      "metadata": {},
      "outputs": [
        {
          "name": "stdout",
          "output_type": "stream",
          "text": [
            "value.(total_plywood) = 448000.0\n"
          ]
        }
      ],
      "source": [
        "@expression(forest_model, total_plywood, sum(G))\n",
        "@show value.(total_plywood);"
      ]
    },
    {
      "cell_type": "markdown",
      "id": "d5c0029a-608c-435e-8bf2-e17a633ba4b6",
      "metadata": {},
      "source": [
        "## References\n",
        "\n",
        "Put any consulted sources here, including classmates you worked with/who\n",
        "helped you."
      ]
    }
  ],
  "metadata": {
    "kernel_info": {
      "name": "julia"
    },
    "kernelspec": {
      "display_name": "Julia 1.10.5",
      "language": "julia",
      "name": "julia-1.10"
    },
    "language_info": {
      "file_extension": ".jl",
      "mimetype": "application/julia",
      "name": "julia",
      "version": "1.10.5"
    }
  },
  "nbformat": 4,
  "nbformat_minor": 5
}
